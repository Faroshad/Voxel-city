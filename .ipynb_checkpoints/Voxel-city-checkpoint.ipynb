{
 "cells": [
  {
   "cell_type": "markdown",
   "id": "1a870a06-740c-4ec8-a094-c02b940f0192",
   "metadata": {},
   "source": [
    "\n",
    "<div style=\"background-color:#0a1a19; height:200px; border-radius: 5px\">\n",
    "    <link rel=\"stylesheet\" href=\"https://fonts.googleapis.com/icon?family=Material+Icons\">\n",
    "    <p style=\"padding-left: 25px; padding-top: 15px; font-size: 30px; color:white\"><img src=\"./img/HES.png\" style=\"width:60px;height:60px; color:#9ACD32; padding-top: 45p\"><b>\n",
    " Voxel City</b></p> \n",
    "    <p style=\"padding-left: 25px; color:white; font-size: 17px\">Urban generation process to create a digital twin of our cities.<br> this code was developed as a part of <b>HES</b> Project. our final goal is releasing this tool as an API for <b>HES</b> Website.</p>\n",
    "</div>"
   ]
  },
  {
   "cell_type": "markdown",
   "id": "9daeeb53-daa5-4def-8aa5-4876efd2643a",
   "metadata": {},
   "source": [
    "\n",
    "<div style=\"background-color:#0a1a14; height:140px; border-radius: 5px\">\n",
    "    <link rel=\"stylesheet\" href=\"https://cdnjs.cloudflare.com/ajax/libs/font-awesome/5.9.0/css/font-awesome.min.css\">\n",
    "    <h1 style=\"padding-left: 25px; padding-top: 25px; font-size: 25px; color:white\"><i class=\"fa fa-text-height\"></i>Height detection from the shadows</h1> \n",
    "    <p style=\"padding-left: 25px; color:white; font-size: 17px\">The first step is extracting shadows to detect buildings' height </p>\n",
    "</div>"
   ]
  },
  {
   "cell_type": "markdown",
   "id": "412dad20-7bb0-46c2-ace9-c7928046cc69",
   "metadata": {
    "tags": []
   },
   "source": [
    "\n",
    "<div style=\"background-color:#163b57; height:70px; border-radius: 5px\">\n",
    "    <link rel=\"stylesheet\" href=\"https://cdnjs.cloudflare.com/ajax/libs/font-awesome/4.7.0/css/font-awesome.min.css\">\n",
    "    <h2 style=\"padding-left: 15px; padding-top: 19px; color:white\"><i class=\"fa fa-codepen\"></i> Load your Google image</h2>\n",
    "      \n",
    "</div>"
   ]
  },
  {
   "cell_type": "markdown",
   "id": "0209b3ad-e385-4d97-b50c-1821ffa7ed21",
   "metadata": {},
   "source": [
    "\n",
    "<div style=\"background-color:#0a1a14; height:140px; border-radius: 5px\">\n",
    "    <script src=\"https://kit.fontawesome.com/a076d05399.js\" crossorigin=\"anonymous\"></script>\n",
    "    <h1 style=\"padding-left: 25px; padding-top: 25px; font-size: 25px; color:white\"><i class=\"fab fa-buromobelexperte\" style=\"padding-right:25px\"></i>Semantic segmentation</h1> \n",
    "    <p style=\"padding-left: 25px; color:white; font-size: 17px\">The second step is applying semantic segmentation CNN algorithm to detect urban objects materials </p>\n",
    "</div>"
   ]
  },
  {
   "cell_type": "markdown",
   "id": "2a222f86-1f81-45fa-9602-b440f727e468",
   "metadata": {},
   "source": [
    "\n",
    "<div style=\"background-color:#0a1a14; height:140px; border-radius: 5px\">\n",
    "    <script src=\"https://kit.fontawesome.com/a076d05399.js\" crossorigin=\"anonymous\"></script>\n",
    "    <h1 style=\"padding-left: 25px; padding-top: 25px; font-size: 25px; color:white\"><i class=\"fas fa-link\" style=\"padding-right:25px\"></i>Integrate Analysis</h1> \n",
    "    <p style=\"padding-left: 25px; color:white; font-size: 17px\">The third step is integrating steps 1st and 2nd to create first 3D view of urban zone </p>\n",
    "</div>"
   ]
  },
  {
   "cell_type": "markdown",
   "id": "3319dd4a-4a5c-453d-af75-4e821d591a72",
   "metadata": {},
   "source": [
    "\n",
    "<div style=\"background-color:#0a1a14; height:140px; border-radius: 5px\">\n",
    "    <script src=\"https://kit.fontawesome.com/a076d05399.js\" crossorigin=\"anonymous\"></script>\n",
    "    <h1 style=\"padding-left: 25px; padding-top: 25px; font-size: 25px; color:white\"><i class=\"fas fa-cubes\" style=\"padding-right:25px\"></i>Voxelization</h1> \n",
    "    <p style=\"padding-left: 25px; color:white; font-size: 17px\">The 4th step allocated to voxelize 3D models</p>\n",
    "</div>"
   ]
  },
  {
   "cell_type": "markdown",
   "id": "fbd09595-4c25-4294-89f2-4e5129c3056b",
   "metadata": {},
   "source": [
    "\n",
    "<div style=\"background-color:#0a1a14; height:140px; border-radius: 5px\">\n",
    "    <script src=\"https://kit.fontawesome.com/a076d05399.js\" crossorigin=\"anonymous\"></script>\n",
    "    <h1 style=\"padding-left: 25px; padding-top: 25px; font-size: 25px; color:white\"><i class=\"far fa-file-excel\" style=\"padding-right:25px\"></i>Export CSV</h1> \n",
    "    <p style=\"padding-left: 25px; color:white; font-size: 17px\">The final step is making an excel file with relational data base format which designed by <b>HES</b> Team</p>\n",
    "</div>"
   ]
  },
  {
   "cell_type": "code",
   "execution_count": null,
   "id": "8e246a9d-3235-48f9-ac49-17cf411427d5",
   "metadata": {},
   "outputs": [],
   "source": []
  }
 ],
 "metadata": {
  "kernelspec": {
   "display_name": "Python 3 (ipykernel)",
   "language": "python",
   "name": "python3"
  },
  "language_info": {
   "codemirror_mode": {
    "name": "ipython",
    "version": 3
   },
   "file_extension": ".py",
   "mimetype": "text/x-python",
   "name": "python",
   "nbconvert_exporter": "python",
   "pygments_lexer": "ipython3",
   "version": "3.7.0"
  }
 },
 "nbformat": 4,
 "nbformat_minor": 5
}
